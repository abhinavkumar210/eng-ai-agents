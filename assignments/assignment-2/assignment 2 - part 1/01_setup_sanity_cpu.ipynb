{
 "cells": [
  {
   "cell_type": "markdown",
   "id": "f637a1e7",
   "metadata": {},
   "source": [
    "# Assignment 2 Part 1\n",
    "\n",
    "Abhinav Kumar\n",
    "10/13/2025\n",
    "\n",
    "Environment Setup"
   ]
  },
  {
   "cell_type": "code",
   "execution_count": 5,
   "id": "3a153b28",
   "metadata": {},
   "outputs": [
    {
     "name": "stdout",
     "output_type": "stream",
     "text": [
      "Python: 3.11.13 (main, Sep  8 2025, 22:53:03) [GCC 12.2.0]\n",
      "Platform: Linux-6.6.87.2-microsoft-standard-WSL2-x86_64-with-glibc2.36\n"
     ]
    }
   ],
   "source": [
    "\n",
    "import sys, platform\n",
    "print(\"Python:\", sys.version)\n",
    "print(\"Platform:\", platform.platform())\n"
   ]
  },
  {
   "cell_type": "code",
   "execution_count": 13,
   "id": "91628df5",
   "metadata": {},
   "outputs": [
    {
     "name": "stdout",
     "output_type": "stream",
     "text": [
      "torch: 2.8.0+cpu\n",
      "torchvision: 0.23.0+cpu\n",
      "lightning: 2.5.5\n"
     ]
    }
   ],
   "source": [
    "\n",
    "import torch, torchvision, lightning\n",
    "print(\"torch:\", torch.__version__)\n",
    "print(\"torchvision:\", torchvision.__version__)\n",
    "print(\"lightning:\", lightning.__version__)\n"
   ]
  },
  {
   "cell_type": "code",
   "execution_count": 14,
   "id": "491571cf",
   "metadata": {},
   "outputs": [
    {
     "name": "stdout",
     "output_type": "stream",
     "text": [
      "anomalib OK\n"
     ]
    }
   ],
   "source": [
    "\n",
    "import anomalib\n",
    "print(\"anomalib OK\")\n"
   ]
  }
 ],
 "metadata": {
  "kernelspec": {
   "display_name": ".venv",
   "language": "python",
   "name": "python3"
  },
  "language_info": {
   "codemirror_mode": {
    "name": "ipython",
    "version": 3
   },
   "file_extension": ".py",
   "mimetype": "text/x-python",
   "name": "python",
   "nbconvert_exporter": "python",
   "pygments_lexer": "ipython3",
   "version": "3.11.13"
  }
 },
 "nbformat": 4,
 "nbformat_minor": 5
}
