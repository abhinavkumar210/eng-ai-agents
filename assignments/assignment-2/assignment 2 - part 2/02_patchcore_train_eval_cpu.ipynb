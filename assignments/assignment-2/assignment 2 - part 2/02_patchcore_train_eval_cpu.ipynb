{
 "cells": [
  {
   "cell_type": "markdown",
   "id": "ae546f32",
   "metadata": {},
   "source": [
    "# Assignment 2 Part 2\n",
    "\n",
    "Abhinav Kumar\n",
    "10/13/2025\n",
    "\n",
    "PatchCore on MVTec-AD"
   ]
  },
  {
   "cell_type": "code",
   "execution_count": 29,
   "id": "ecb1610b",
   "metadata": {},
   "outputs": [
    {
     "name": "stderr",
     "output_type": "stream",
     "text": [
      "Seed set to 42\n"
     ]
    },
    {
     "data": {
      "text/plain": [
       "42"
      ]
     },
     "execution_count": 29,
     "metadata": {},
     "output_type": "execute_result"
    }
   ],
   "source": [
    "from pathlib import Path\n",
    "import time, numpy as np, pandas as pd\n",
    "\n",
    "from lightning import Trainer, seed_everything\n",
    "from anomalib.data import MVTecAD\n",
    "from anomalib.models import Patchcore\n",
    "from anomalib.visualization import ImageVisualizer\n",
    "\n",
    "seed_everything(42)\n"
   ]
  },
  {
   "cell_type": "code",
   "execution_count": 30,
   "id": "362893db",
   "metadata": {},
   "outputs": [],
   "source": [
    "def build_dm(category: str,\n",
    "             root: str = \"./data\",\n",
    "             train_batch_size: int = 8,\n",
    "             eval_batch_size: int = 8,\n",
    "             num_workers: int = 4):\n",
    "    return MVTecAD(\n",
    "        root=root,\n",
    "        category=category,\n",
    "        train_batch_size=train_batch_size,\n",
    "        eval_batch_size=eval_batch_size,\n",
    "        num_workers=num_workers,\n",
    "    )"
   ]
  },
  {
   "cell_type": "code",
   "execution_count": null,
   "id": "67de8ea1",
   "metadata": {},
   "outputs": [],
   "source": [
    "# --- speed knobs ---\n",
    "MAX_EPOCHS = 1\n",
    "LIMIT_TRAIN = 0.05 \n",
    "LIMIT_VAL = 0.0 \n",
    "LIMIT_TEST = 0.2\n",
    "NUM_SANITY_VAL_STEPS = 0\n",
    "BATCH_SIZE = 8\n",
    "NUM_WORKERS = 4\n",
    "# --------------------\n",
    "\n",
    "CATEGORIES = (\"tile\", \"leather\", \"grid\")\n",
    "\n",
    "OUTDIR = Path(\"./outputs_hertz\"); OUTDIR.mkdir(parents=True, exist_ok=True)\n",
    "\n",
    "def run_category_fast(category: str):\n",
    "    dm = build_dm(category,\n",
    "                  train_batch_size=BATCH_SIZE,\n",
    "                  eval_batch_size=BATCH_SIZE,\n",
    "                  num_workers=NUM_WORKERS)\n",
    "    model = Patchcore()\n",
    "\n",
    "    trainer = Trainer(\n",
    "        accelerator=\"cpu\", devices=1, precision=\"32-true\",\n",
    "        max_epochs=MAX_EPOCHS,\n",
    "        limit_train_batches=LIMIT_TRAIN,\n",
    "        limit_val_batches=LIMIT_VAL,\n",
    "        limit_test_batches=LIMIT_TEST,\n",
    "        num_sanity_val_steps=NUM_SANITY_VAL_STEPS,\n",
    "        logger=False, enable_checkpointing=True,\n",
    "        default_root_dir=str(OUTDIR / category),\n",
    "        log_every_n_steps=5,\n",
    "        enable_progress_bar=True,\n",
    "    )\n",
    "\n",
    "    t0 = time.time()\n",
    "    trainer.fit(model=model, datamodule=dm)\n",
    "    metrics_list = trainer.test(model=model, datamodule=dm, verbose=False)\n",
    "    dt = time.time() - t0\n",
    "\n",
    "    metrics = metrics_list[0] if isinstance(metrics_list, list) else metrics_list\n",
    "    img_auc = metrics.get(\"image_auroc\", metrics.get(\"AUROCImage\", np.nan))\n",
    "    pxl_auc = metrics.get(\"pixel_auroc\", metrics.get(\"AUROCPixel\", np.nan))\n",
    "\n",
    "    print(f\"[{category}] done in {dt/60:.1f} min | image_auroc={img_auc} | pixel_auroc={pxl_auc}\")\n",
    "    return float(img_auc or np.nan), float(pxl_auc or np.nan)\n",
    "\n",
    "rows = []\n",
    "for cat in CATEGORIES:\n",
    "    ia, pa = run_category_fast(cat)\n",
    "    rows.append({\"category\": cat, \"image_auroc\": ia, \"pixel_auroc\": pa})\n",
    "    df = pd.DataFrame(rows).set_index(\"category\")\n",
    "    display(df)\n",
    "    df.to_csv(OUTDIR / \"auroc_summary.partial.csv\")\n",
    "\n",
    "df = pd.DataFrame(rows).set_index(\"category\")\n",
    "df.to_csv(OUTDIR / \"auroc_summary.csv\")\n",
    "display(df)\n",
    "print(f\"\\nMean Image AUROC: {df['image_auroc'].mean():.4f}\")\n",
    "print(f\"Mean Pixel AUROC: {df['pixel_auroc'].mean():.4f}\")\n",
    "print(\"\\nArtifacts saved to:\", OUTDIR.resolve())"
   ]
  }
 ],
 "metadata": {
  "kernelspec": {
   "display_name": ".venv",
   "language": "python",
   "name": "python3"
  },
  "language_info": {
   "codemirror_mode": {
    "name": "ipython",
    "version": 3
   },
   "file_extension": ".py",
   "mimetype": "text/x-python",
   "name": "python",
   "nbconvert_exporter": "python",
   "pygments_lexer": "ipython3",
   "version": "3.11.13"
  }
 },
 "nbformat": 4,
 "nbformat_minor": 5
}
