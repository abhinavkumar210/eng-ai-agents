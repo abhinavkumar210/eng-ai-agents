{
 "cells": [
  {
   "cell_type": "markdown",
   "id": "490eea64",
   "metadata": {},
   "source": [
    "# Assignment 2 Part 3\n",
    "\n",
    "Abhinav Kumar\n",
    "10/13/2025\n",
    "\n",
    "Explainability Heatmaps"
   ]
  },
  {
   "cell_type": "code",
   "execution_count": null,
   "id": "892b81cf",
   "metadata": {},
   "outputs": [],
   "source": [
    "\n",
    "import numpy as np\n",
    "from PIL import Image\n",
    "import matplotlib.pyplot as plt\n",
    "\n",
    "def overlay_heatmap_on_image(image: Image.Image, heatmap: np.ndarray, alpha: float = 0.5):\n",
    "    heatmap = (heatmap - heatmap.min()) / (heatmap.max() - heatmap.min() + 1e-8)\n",
    "    cmap = plt.cm.jet(heatmap)\n",
    "    hm = Image.fromarray((cmap * 255).astype(np.uint8)).convert(\"RGBA\")\n",
    "    hm = hm.resize(image.size, resample=Image.BILINEAR)\n",
    "    base = image.convert(\"RGBA\")\n",
    "    return Image.blend(base, hm, alpha)\n"
   ]
  },
  {
   "cell_type": "code",
   "execution_count": null,
   "id": "3da36da8",
   "metadata": {},
   "outputs": [],
   "source": [
    "\n",
    "from pathlib import Path\n",
    "from anomalib.data import MVTec\n",
    "from anomalib.models import Patchcore\n",
    "\n",
    "CATEGORY = \"tile\"  # change to 'leather' or 'grid'\n",
    "dm = MVTec(root=\"./data\", category=CATEGORY, image_size=256, task=\"segmentation\", download=True)\n",
    "model = Patchcore()\n"
   ]
  }
 ],
 "metadata": {
  "language_info": {
   "name": "python"
  }
 },
 "nbformat": 4,
 "nbformat_minor": 5
}
