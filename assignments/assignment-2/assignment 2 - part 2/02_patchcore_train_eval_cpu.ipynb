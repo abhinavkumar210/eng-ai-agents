{
 "cells": [
  {
   "cell_type": "markdown",
   "id": "ae546f32",
   "metadata": {},
   "source": [
    "# Assignment 2 Part 2\n",
    "\n",
    "Abhinav Kumar\n",
    "10/13/2025\n",
    "\n",
    "PatchCore on MVTec-AD"
   ]
  },
  {
   "cell_type": "code",
   "execution_count": 18,
   "id": "ecb1610b",
   "metadata": {},
   "outputs": [
    {
     "name": "stderr",
     "output_type": "stream",
     "text": [
      "Seed set to 42\n"
     ]
    },
    {
     "data": {
      "text/plain": [
       "42"
      ]
     },
     "execution_count": 18,
     "metadata": {},
     "output_type": "execute_result"
    }
   ],
   "source": [
    "from pathlib import Path\n",
    "import numpy as np, pandas as pd\n",
    "\n",
    "from lightning import Trainer, seed_everything\n",
    "from anomalib.data import MVTec\n",
    "from anomalib.models import Patchcore\n",
    "\n",
    "try:\n",
    "    from anomalib.utils.callbacks.image_visualizer import ImageVisualizerCallback\n",
    "except Exception:\n",
    "    try:\n",
    "        from anomalib.engine.callbacks import ImageVisualizerCallback\n",
    "    except Exception:\n",
    "        try:\n",
    "            # older layout\n",
    "            from anomalib.utils.callbacks import ImageVisualizerCallback\n",
    "        except Exception:\n",
    "            ImageVisualizerCallback = None\n",
    "\n",
    "\n",
    "SEED = 42\n",
    "CATEGORIES = (\"tile\", \"leather\", \"grid\")\n",
    "IMAGE_SIZE = 256\n",
    "BATCH_SIZE = 8\n",
    "NUM_WORKERS = 4\n",
    "MAX_EPOCHS = 1\n",
    "OUTDIR = Path(\"./outputs_hertz\"); OUTDIR.mkdir(parents=True, exist_ok=True)\n",
    "seed_everything(SEED)\n"
   ]
  },
  {
   "cell_type": "code",
   "execution_count": 19,
   "id": "362893db",
   "metadata": {},
   "outputs": [],
   "source": [
    "import inspect\n",
    "\n",
    "def build_mvtec_dm(category: str,\n",
    "                   root=\"./data\",\n",
    "                   train_batch_size=8,\n",
    "                   eval_batch_size=8,\n",
    "                   num_workers=4,\n",
    "                   download=True):\n",
    "   \n",
    "    candidates = []\n",
    "    try:\n",
    "        from anomalib.data import MVTecAD\n",
    "        candidates.append(MVTecAD)\n",
    "    except Exception:\n",
    "        pass\n",
    "    try:\n",
    "        from anomalib.data import MVTec\n",
    "        candidates.append(MVTec)\n",
    "    except Exception:\n",
    "        pass\n",
    "    if not candidates:\n",
    "        raise RuntimeError(\"Could not import anomalib.data.MVTecAD or MVTec\")\n",
    "\n",
    "    desired = dict(\n",
    "        root=root,\n",
    "        category=category,\n",
    "        train_batch_size=train_batch_size,\n",
    "        eval_batch_size=eval_batch_size,\n",
    "        num_workers=num_workers,\n",
    "        download=download,\n",
    "        task=\"segmentation\",   \n",
    "        image_size=256, \n",
    "    )\n",
    "\n",
    "    last_err = None\n",
    "    for cls in candidates:\n",
    "        params = set(inspect.signature(cls.__init__).parameters.keys())\n",
    "        params.discard(\"self\")\n",
    "        filtered = {k: v for k, v in desired.items() if k in params}\n",
    "        try:\n",
    "            dm = cls(**filtered)\n",
    "            \n",
    "            return dm\n",
    "        except TypeError as e:\n",
    "            last_err = e\n",
    "            continue\n",
    "\n",
    "    raise TypeError(f\"Failed to construct MVTec datamodule; last error: {last_err}\")\n"
   ]
  },
  {
   "cell_type": "code",
   "execution_count": 20,
   "id": "d865aa37",
   "metadata": {},
   "outputs": [],
   "source": [
    "def build_dm(category: str):\n",
    "    return build_mvtec_dm(\n",
    "        category=category,\n",
    "        root=\"./data\",\n",
    "        train_batch_size=BATCH_SIZE,\n",
    "        eval_batch_size=BATCH_SIZE,\n",
    "        num_workers=NUM_WORKERS,\n",
    "        download=True,\n",
    "    )\n"
   ]
  },
  {
   "cell_type": "code",
   "execution_count": 21,
   "id": "7bbc96e9",
   "metadata": {},
   "outputs": [],
   "source": [
    "\n",
    "def run_category(category: str):\n",
    "    dm = build_dm(category)\n",
    "    model = Patchcore()\n",
    "    callbacks = [ImageVisualizerCallback(save_images=True, mode=\"full\", output_path=OUTDIR / category)]\n",
    "    trainer = Trainer(\n",
    "        accelerator=\"cpu\", devices=1, precision=\"32-true\",\n",
    "        max_epochs=MAX_EPOCHS, callbacks=callbacks,\n",
    "        logger=False, enable_checkpointing=True, default_root_dir=str(OUTDIR / category),\n",
    "    )\n",
    "    trainer.fit(model=model, datamodule=dm)\n",
    "    metrics_list = trainer.test(model=model, datamodule=dm, verbose=False)\n",
    "    metrics = metrics_list[0] if isinstance(metrics_list, list) else metrics_list\n",
    "    img_auc = metrics.get(\"image_auroc\", metrics.get(\"AUROCImage\", np.nan))\n",
    "    pxl_auc = metrics.get(\"pixel_auroc\", metrics.get(\"AUROCPixel\", np.nan))\n",
    "    return float(img_auc) if img_auc is not None else np.nan, float(pxl_auc) if pxl_auc is not None else np.nan\n"
   ]
  },
  {
   "cell_type": "code",
   "execution_count": null,
   "id": "67de8ea1",
   "metadata": {},
   "outputs": [
    {
     "name": "stdout",
     "output_type": "stream",
     "text": [
      "\n",
      "=== TILE ===\n"
     ]
    }
   ],
   "source": [
    "\n",
    "rows = []\n",
    "for cat in CATEGORIES:\n",
    "    print(f\"\\n=== {cat.upper()} ===\")\n",
    "    ia, pa = run_category(cat)\n",
    "    rows.append({\"category\": cat, \"image_auroc\": ia, \"pixel_auroc\": pa})\n",
    "df = pd.DataFrame(rows).set_index(\"category\")\n",
    "df.to_csv(OUTDIR / \"auroc_summary.csv\")\n",
    "display(df)\n",
    "print(f\"\\nMean Image AUROC: {df['image_auroc'].mean():.4f}\")\n",
    "print(f\"Mean Pixel AUROC: {df['pixel_auroc'].mean():.4f}\")\n",
    "print(\"\\nArtifacts saved to:\", OUTDIR.resolve())\n"
   ]
  }
 ],
 "metadata": {
  "kernelspec": {
   "display_name": ".venv",
   "language": "python",
   "name": "python3"
  },
  "language_info": {
   "codemirror_mode": {
    "name": "ipython",
    "version": 3
   },
   "file_extension": ".py",
   "mimetype": "text/x-python",
   "name": "python",
   "nbconvert_exporter": "python",
   "pygments_lexer": "ipython3",
   "version": "3.11.13"
  }
 },
 "nbformat": 4,
 "nbformat_minor": 5
}
