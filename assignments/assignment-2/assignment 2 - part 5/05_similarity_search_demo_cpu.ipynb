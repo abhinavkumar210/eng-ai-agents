{
 "cells": [
  {
   "cell_type": "markdown",
   "id": "c01d95dc",
   "metadata": {},
   "source": [
    "# Assignment 2 Part 5\n",
    "\n",
    "Abhinav Kumar\n",
    "10/13/2025\n",
    "\n",
    "Similarity Search - Querying PGVector for the top-10 nearest neighbors of a given embedding"
   ]
  },
  {
   "cell_type": "code",
   "execution_count": null,
   "id": "3ba9b5b1",
   "metadata": {},
   "outputs": [],
   "source": [
    "\n",
    "import psycopg2, pandas as pd\n",
    "from psycopg2.extras import RealDictCursor\n",
    "\n",
    "PG = dict(host=\"localhost\", port=5432, dbname=\"mvtec\", user=\"postgres\", password=\"postgres\", table=\"mvtec_embeddings\")\n",
    "\n",
    "def get_conn():\n",
    "    return psycopg2.connect(host=PG[\"host\"], port=PG[\"port\"], dbname=PG[\"dbname\"], user=PG[\"user\"], password=PG[\"password\"])\n",
    "\n",
    "def topk(vec, k=10):\n",
    "    sql = f\"\"\"\n",
    "    SELECT category, split, image_path, label, embedding <-> %s::vector AS dist\n",
    "    FROM {PG['table']}\n",
    "    ORDER BY embedding <-> %s::vector\n",
    "    LIMIT {k};\n",
    "    \"\"\"\n",
    "    v = list(map(float, vec))\n",
    "    with get_conn() as conn, conn.cursor(cursor_factory=RealDictCursor) as cur:\n",
    "        cur.execute(sql, (v, v))\n",
    "        rows = cur.fetchall()\n",
    "    return pd.DataFrame(rows)\n"
   ]
  },
  {
   "cell_type": "code",
   "execution_count": null,
   "id": "f79bb13b",
   "metadata": {},
   "outputs": [],
   "source": [
    "\n",
    "with get_conn() as conn, conn.cursor(cursor_factory=RealDictCursor) as cur:\n",
    "    cur.execute(f\"SELECT embedding FROM {PG['table']} LIMIT 1;\")\n",
    "    one = cur.fetchone()\n",
    "query_vec = one[\"embedding\"]\n",
    "df = topk(query_vec, k=10)\n",
    "df\n"
   ]
  }
 ],
 "metadata": {
  "language_info": {
   "name": "python"
  }
 },
 "nbformat": 4,
 "nbformat_minor": 5
}
